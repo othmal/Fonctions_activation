{
 "cells": [
  {
   "cell_type": "markdown",
   "metadata": {},
   "source": [
    "## Comparaison entre les différentes méthodes d'initialisation des poids\n",
    "\n",
    "Notre projet consiste a établir une comparaison des performences des différentes méthodes d'initialisation et leurs effet sur l'accuracy de notre modèle.\n",
    "\n",
    "Et pour cela , on a utilisé une dataset nommée \"Pima\" de UCI Machine Learning repository ( https://archive.ics.uci.edu/ml ) et qui décrit les données des dossiers médicaux des patients indiens et qui indique si leur diabète a commencé à apparaître chez le patient dans les cinq ans qui suivent , en effet notre dataset contient 8 variables explicatifs qui contient des informations sur le patient(age , niveau d'insulin , tension , ...) et une variable cible qui est une variables binaire(0 ou 1) et qui désigne si le patient va avoir de la diabète dans les cinq ans qui suivent (1) et (0) sinon. \n",
    "\n",
    "Donc on est dans un problème de classification binaire ce qui va définir l'architecture de notre réseau de neurones où on va utilisé la bibliothèque Keras pour implémenter notre réseau de neurones qui est une bibliothèque trés simple et éfficace pour les modèles deep learning et qui offre beaucoup de fonctions qui simplifie l'implémentation .\n",
    "\n",
    "Tous d'abors on a importé les class d'où on aurais besoin (Sequential et Dense) que on va détaillé par la suite et numpy et pyplot pour bien visualiser les résultats obtenues."
   ]
  },
  {
   "cell_type": "code",
   "execution_count": 3,
   "metadata": {},
   "outputs": [
    {
     "name": "stderr",
     "output_type": "stream",
     "text": [
      "Using TensorFlow backend.\n"
     ]
    }
   ],
   "source": [
    "from keras.models import Sequential\n",
    "from keras.layers import Dense\n",
    "import numpy\n",
    "import matplotlib.pyplot as plt"
   ]
  },
  {
   "cell_type": "code",
   "execution_count": 4,
   "metadata": {},
   "outputs": [],
   "source": [
    "numpy.random.seed(7)"
   ]
  },
  {
   "cell_type": "markdown",
   "metadata": {},
   "source": [
    "En suite on a chargé notre dataset qui éxiste dans le dossier où se trouve notre fichier python."
   ]
  },
  {
   "cell_type": "code",
   "execution_count": 5,
   "metadata": {},
   "outputs": [],
   "source": [
    "dataset = numpy.loadtxt(\"pima.csv\", delimiter=\",\")"
   ]
  },
  {
   "cell_type": "markdown",
   "metadata": {},
   "source": [
    "En suite on a divisé notre dataset pour séparer nos variables explicatifs X (Matrice de valeurs numériques) et notre variable cible Y(Tableau de valeurs binaire 0 ou 1)"
   ]
  },
  {
   "cell_type": "code",
   "execution_count": 6,
   "metadata": {},
   "outputs": [],
   "source": [
    "X = dataset[:,0:8]"
   ]
  },
  {
   "cell_type": "code",
   "execution_count": 7,
   "metadata": {},
   "outputs": [],
   "source": [
    "Y = dataset[:,8]"
   ]
  },
  {
   "cell_type": "markdown",
   "metadata": {},
   "source": [
    "En effet , Les modèles dans Keras sont définis comme une séquence de Layers où on doit créer notre modèle qui est un objet \n",
    "de la classe Sequential de Keras avec la commande suivante :"
   ]
  },
  {
   "cell_type": "code",
   "execution_count": 7,
   "metadata": {},
   "outputs": [],
   "source": [
    "model = Sequential()"
   ]
  },
  {
   "cell_type": "markdown",
   "metadata": {},
   "source": [
    "Keras nous offre de la possibilité d'ajouter autant de couche que on veut on utilisant la fonctions add de la class Sequential et on utilisant la Class Dense qui nous permet de créer un Fully Connected Network tout en précisant le nombre d'input de chaque couche et la méthodes d'initialisation des poids ainsi que la fonction d'activation que on veut utilisé (que on va comparer par la suite , dans notre cas on a utilisé la fonction Relu dans les hidden Layers et la function sigmoid dans la output Layer car on est dans un modèle de classification binère."
   ]
  },
  {
   "cell_type": "code",
   "execution_count": 15,
   "metadata": {},
   "outputs": [],
   "source": [
    "#12 unités dans la première hidden layer , 8 entrées (variables explicatifs) , Méthodes d'initialisations ,fonction d'activation)\n",
    "model.add(Dense(12, input_dim=8, kernel_initializer='glorot_uniform', activation='relu'))"
   ]
  },
  {
   "cell_type": "code",
   "execution_count": 16,
   "metadata": {},
   "outputs": [],
   "source": [
    "#8 unités dans la deuxième Layer avec une fonction d'activation Relu\n",
    "model.add(Dense(8, activation='relu'))"
   ]
  },
  {
   "cell_type": "code",
   "execution_count": 17,
   "metadata": {},
   "outputs": [],
   "source": [
    "#1 unités dans la output Layer avec une fonction d'activation sigmoid pour avoir une probabilité entre 0 et 1 \n",
    "model.add(Dense(1, activation='sigmoid'))"
   ]
  },
  {
   "cell_type": "markdown",
   "metadata": {},
   "source": [
    "Ensuite on doit compiler notre modèle (Keras utilisent Tensorflow pour complier le modèle). et pour ceci on doit spécifier comme paramètre :\n",
    "La fonction de Loss où on a utilisé la fonction (CrossEntropy):−(ylog(p)+(1−y)log(1−p)) (que on a vu durant le cours) .\n",
    "La méthodes d'optimisation que on veut utilisé (on a choisit la méthodes d'Adam) .\n",
    "La métrics d'accuracy que on veut obtenir pour évaluer notre modèle."
   ]
  },
  {
   "cell_type": "code",
   "execution_count": 18,
   "metadata": {},
   "outputs": [],
   "source": [
    "model.compile(loss='binary_crossentropy', optimizer='adam', metrics=['accuracy'])"
   ]
  },
  {
   "cell_type": "markdown",
   "metadata": {},
   "source": [
    "Ensuite on va faire apprendre notre modèle en lui donnant comme paramètre notre matrice des entrées et notre tableau qui \n",
    "contient la variable cible pour chaque patient tout en précisant le nombre d'itérations et le nombre d'éxemples a traité \n",
    "avant de mettre à jours les poids"
   ]
  },
  {
   "cell_type": "code",
   "execution_count": 19,
   "metadata": {},
   "outputs": [
    {
     "name": "stdout",
     "output_type": "stream",
     "text": [
      "Epoch 1/2\n",
      "768/768 [==============================] - 1s 730us/step - loss: 0.6757 - acc: 0.7031\n",
      "Epoch 2/2\n",
      "768/768 [==============================] - 0s 127us/step - loss: 0.6456 - acc: 0.7409\n"
     ]
    },
    {
     "data": {
      "text/plain": [
       "<keras.callbacks.History at 0x1d4da8c92b0>"
      ]
     },
     "execution_count": 19,
     "metadata": {},
     "output_type": "execute_result"
    }
   ],
   "source": [
    "model.fit(X, Y, epochs=2, batch_size=10)\n"
   ]
  },
  {
   "cell_type": "markdown",
   "metadata": {},
   "source": [
    "Enfin , on arrive a la comparaison de nos méthodes d'initialisation où on va calculer l'accuracy de notre modèle pour chaque\n",
    "méthodes qui s'agissent de :\n",
    "* RandomUniform : on génére des poids aléatoires avec des valeurs entre -0.05 et 0.05 d'une distribution normal de ces valeurs .\n",
    "\n",
    "Pour les autres méthodes on génére les poids avec la formule suivante où seul la constante cte qui différe dans chaque méthodes :\n",
    "\n",
    "                                np.random.randn(input_units, output_units)*cte\n",
    "                   \n",
    "* glorot normal, $cte =sqrt( \\frac{2}{n_{in}+n_{out}}$) <br><br>\n",
    "* glorot uniform, $cte = sqrt(\\frac{6}{n_{in}+n_{out}}$)<br><br>\n",
    "* He normal,$cte = sqrt(\\frac{2}{n_{in}}$) <br><br>\n",
    "* He uniform,$cte = sqrt(\\frac{6}{n_{in}}$) <br><br>\n",
    "* LeCun normal, $cte = sqrt(\\frac{1}{n_{in}}$)<br><br>\n",
    "* LeCun uniform, $cte = sqrt(\\frac{3}{n_{in}}$)<br><br>\n",
    "\n",
    "\n",
    "$n_{in}$ représente le nombre des input units et $n_{out}$ le nombre des outputs units dans la couche.<br>"
   ]
  },
  {
   "cell_type": "code",
   "execution_count": 11,
   "metadata": {},
   "outputs": [
    {
     "name": "stdout",
     "output_type": "stream",
     "text": [
      "RandomUniform\n",
      "Epoch 1/15\n",
      "768/768 [==============================] - 1s 1ms/step - loss: 0.8985 - acc: 0.5469\n",
      "Epoch 2/15\n",
      "768/768 [==============================] - 0s 128us/step - loss: 0.6332 - acc: 0.6289\n",
      "Epoch 3/15\n",
      "768/768 [==============================] - 0s 165us/step - loss: 0.6105 - acc: 0.6615\n",
      "Epoch 4/15\n",
      "768/768 [==============================] - 0s 157us/step - loss: 0.6313 - acc: 0.6654\n",
      "Epoch 5/15\n",
      "768/768 [==============================] - 0s 150us/step - loss: 0.6050 - acc: 0.6654\n",
      "Epoch 6/15\n",
      "768/768 [==============================] - 0s 147us/step - loss: 0.6081 - acc: 0.6667\n",
      "Epoch 7/15\n",
      "768/768 [==============================] - 0s 155us/step - loss: 0.5984 - acc: 0.6602\n",
      "Epoch 8/15\n",
      "768/768 [==============================] - 0s 134us/step - loss: 0.6009 - acc: 0.6654\n",
      "Epoch 9/15\n",
      "768/768 [==============================] - 0s 149us/step - loss: 0.6021 - acc: 0.6589\n",
      "Epoch 10/15\n",
      "768/768 [==============================] - 0s 158us/step - loss: 0.5913 - acc: 0.6732\n",
      "Epoch 11/15\n",
      "768/768 [==============================] - 0s 166us/step - loss: 0.6013 - acc: 0.6810\n",
      "Epoch 12/15\n",
      "768/768 [==============================] - 0s 181us/step - loss: 0.6032 - acc: 0.6667\n",
      "Epoch 13/15\n",
      "768/768 [==============================] - 0s 166us/step - loss: 0.6085 - acc: 0.6732\n",
      "Epoch 14/15\n",
      "768/768 [==============================] - 0s 179us/step - loss: 0.6034 - acc: 0.6563\n",
      "Epoch 15/15\n",
      "768/768 [==============================] - 0s 156us/step - loss: 0.5969 - acc: 0.6745\n",
      "768/768 [==============================] - 0s 263us/step\n",
      "glorot_normal\n",
      "Epoch 1/15\n",
      "768/768 [==============================] - 1s 991us/step - loss: 2.3645 - acc: 0.6185\n",
      "Epoch 2/15\n",
      "768/768 [==============================] - 0s 135us/step - loss: 1.2917 - acc: 0.6081\n",
      "Epoch 3/15\n",
      "768/768 [==============================] - 0s 138us/step - loss: 1.0983 - acc: 0.6146\n",
      "Epoch 4/15\n",
      "768/768 [==============================] - 0s 164us/step - loss: 0.9876 - acc: 0.6185\n",
      "Epoch 5/15\n",
      "768/768 [==============================] - 0s 160us/step - loss: 0.9016 - acc: 0.6185\n",
      "Epoch 6/15\n",
      "768/768 [==============================] - 0s 135us/step - loss: 0.8368 - acc: 0.6289\n",
      "Epoch 7/15\n",
      "768/768 [==============================] - 0s 122us/step - loss: 0.8020 - acc: 0.6380\n",
      "Epoch 8/15\n",
      "768/768 [==============================] - 0s 149us/step - loss: 0.7608 - acc: 0.6367\n",
      "Epoch 9/15\n",
      "768/768 [==============================] - 0s 151us/step - loss: 0.7426 - acc: 0.6458\n",
      "Epoch 10/15\n",
      "768/768 [==============================] - 0s 157us/step - loss: 0.7360 - acc: 0.6549\n",
      "Epoch 11/15\n",
      "768/768 [==============================] - 0s 139us/step - loss: 0.7118 - acc: 0.6602\n",
      "Epoch 12/15\n",
      "768/768 [==============================] - 0s 122us/step - loss: 0.6941 - acc: 0.6432\n",
      "Epoch 13/15\n",
      "768/768 [==============================] - 0s 121us/step - loss: 0.6967 - acc: 0.6393\n",
      "Epoch 14/15\n",
      "768/768 [==============================] - 0s 130us/step - loss: 0.6681 - acc: 0.6602\n",
      "Epoch 15/15\n",
      "768/768 [==============================] - 0s 130us/step - loss: 0.6441 - acc: 0.6693\n",
      "768/768 [==============================] - 0s 230us/step\n",
      "glorot_uniform\n",
      "Epoch 1/15\n",
      "768/768 [==============================] - 1s 1ms/step - loss: 2.9015 - acc: 0.5599\n",
      "Epoch 2/15\n",
      "768/768 [==============================] - 0s 179us/step - loss: 1.0549 - acc: 0.5573\n",
      "Epoch 3/15\n",
      "768/768 [==============================] - 0s 155us/step - loss: 0.7730 - acc: 0.6237\n",
      "Epoch 4/15\n",
      "768/768 [==============================] - 0s 165us/step - loss: 0.7356 - acc: 0.6393\n",
      "Epoch 5/15\n",
      "768/768 [==============================] - 0s 186us/step - loss: 0.7149 - acc: 0.6497\n",
      "Epoch 6/15\n",
      "768/768 [==============================] - 0s 183us/step - loss: 0.7280 - acc: 0.6211\n",
      "Epoch 7/15\n",
      "768/768 [==============================] - 0s 201us/step - loss: 0.7158 - acc: 0.6250\n",
      "Epoch 8/15\n",
      "768/768 [==============================] - 0s 156us/step - loss: 0.6580 - acc: 0.6536\n",
      "Epoch 9/15\n",
      "768/768 [==============================] - 0s 156us/step - loss: 0.6636 - acc: 0.6589\n",
      "Epoch 10/15\n",
      "768/768 [==============================] - 0s 144us/step - loss: 0.6695 - acc: 0.6615\n",
      "Epoch 11/15\n",
      "768/768 [==============================] - 0s 122us/step - loss: 0.6448 - acc: 0.6419\n",
      "Epoch 12/15\n",
      "768/768 [==============================] - 0s 122us/step - loss: 0.6328 - acc: 0.6563\n",
      "Epoch 13/15\n",
      "768/768 [==============================] - 0s 161us/step - loss: 0.6622 - acc: 0.6458\n",
      "Epoch 14/15\n",
      "768/768 [==============================] - 0s 133us/step - loss: 0.6321 - acc: 0.6914\n",
      "Epoch 15/15\n",
      "768/768 [==============================] - 0s 142us/step - loss: 0.6295 - acc: 0.6836\n",
      "768/768 [==============================] - 0s 313us/step\n",
      "he_normal\n",
      "Epoch 1/15\n",
      "768/768 [==============================] - 1s 1ms/step - loss: 5.6245 - acc: 0.6510\n",
      "Epoch 2/15\n",
      "768/768 [==============================] - 0s 168us/step - loss: 5.6245 - acc: 0.6510\n",
      "Epoch 3/15\n",
      "768/768 [==============================] - 0s 149us/step - loss: 5.6245 - acc: 0.6510\n",
      "Epoch 4/15\n",
      "768/768 [==============================] - 0s 175us/step - loss: 5.6245 - acc: 0.6510\n",
      "Epoch 5/15\n",
      "768/768 [==============================] - 0s 192us/step - loss: 5.6245 - acc: 0.6510\n",
      "Epoch 6/15\n",
      "768/768 [==============================] - 0s 171us/step - loss: 5.6245 - acc: 0.6510\n",
      "Epoch 7/15\n",
      "768/768 [==============================] - 0s 171us/step - loss: 5.6245 - acc: 0.6510\n",
      "Epoch 8/15\n",
      "768/768 [==============================] - 0s 225us/step - loss: 5.6245 - acc: 0.6510\n",
      "Epoch 9/15\n",
      "768/768 [==============================] - 0s 158us/step - loss: 5.6245 - acc: 0.6510\n",
      "Epoch 10/15\n",
      "768/768 [==============================] - 0s 147us/step - loss: 5.6245 - acc: 0.6510\n",
      "Epoch 11/15\n",
      "768/768 [==============================] - 0s 147us/step - loss: 5.6245 - acc: 0.6510\n",
      "Epoch 12/15\n",
      "768/768 [==============================] - 0s 158us/step - loss: 5.6245 - acc: 0.6510\n",
      "Epoch 13/15\n",
      "768/768 [==============================] - 0s 156us/step - loss: 5.6245 - acc: 0.6510\n",
      "Epoch 14/15\n",
      "768/768 [==============================] - 0s 156us/step - loss: 5.6245 - acc: 0.6510\n",
      "Epoch 15/15\n",
      "768/768 [==============================] - 0s 161us/step - loss: 5.6245 - acc: 0.6510\n",
      "768/768 [==============================] - 0s 331us/step\n",
      "he_uniform\n",
      "Epoch 1/15\n",
      "768/768 [==============================] - 1s 2ms/step - loss: 3.4590 - acc: 0.5977\n",
      "Epoch 2/15\n",
      "768/768 [==============================] - 0s 166us/step - loss: 0.8297 - acc: 0.5404\n",
      "Epoch 3/15\n",
      "768/768 [==============================] - 0s 186us/step - loss: 0.6921 - acc: 0.6523\n",
      "Epoch 4/15\n",
      "768/768 [==============================] - 0s 213us/step - loss: 0.6715 - acc: 0.6563\n",
      "Epoch 5/15\n",
      "768/768 [==============================] - 0s 212us/step - loss: 0.6636 - acc: 0.6523\n",
      "Epoch 6/15\n",
      "768/768 [==============================] - 0s 170us/step - loss: 0.6624 - acc: 0.6510\n",
      "Epoch 7/15\n",
      "768/768 [==============================] - 0s 161us/step - loss: 0.6558 - acc: 0.6628\n",
      "Epoch 8/15\n",
      "768/768 [==============================] - 0s 161us/step - loss: 0.6546 - acc: 0.6576\n",
      "Epoch 9/15\n",
      "768/768 [==============================] - 0s 165us/step - loss: 0.6502 - acc: 0.6471\n",
      "Epoch 10/15\n",
      "768/768 [==============================] - 0s 166us/step - loss: 0.6499 - acc: 0.6576\n",
      "Epoch 11/15\n",
      "768/768 [==============================] - 0s 230us/step - loss: 0.6566 - acc: 0.6563\n",
      "Epoch 12/15\n",
      "768/768 [==============================] - 0s 222us/step - loss: 0.6481 - acc: 0.6628\n",
      "Epoch 13/15\n",
      "768/768 [==============================] - 0s 183us/step - loss: 0.6448 - acc: 0.6641\n",
      "Epoch 14/15\n",
      "768/768 [==============================] - 0s 155us/step - loss: 0.6414 - acc: 0.6563\n",
      "Epoch 15/15\n",
      "768/768 [==============================] - 0s 165us/step - loss: 0.6403 - acc: 0.6549\n",
      "768/768 [==============================] - 0s 337us/step\n",
      "lecun_normal\n",
      "Epoch 1/15\n",
      "768/768 [==============================] - 1s 1ms/step - loss: 4.8471 - acc: 0.6237\n",
      "Epoch 2/15\n",
      "768/768 [==============================] - 0s 161us/step - loss: 3.9521 - acc: 0.5781\n",
      "Epoch 3/15\n",
      "768/768 [==============================] - 0s 153us/step - loss: 3.1943 - acc: 0.5260\n",
      "Epoch 4/15\n",
      "768/768 [==============================] - 0s 162us/step - loss: 2.4971 - acc: 0.5339\n",
      "Epoch 5/15\n",
      "768/768 [==============================] - 0s 158us/step - loss: 1.9562 - acc: 0.5443\n",
      "Epoch 6/15\n"
     ]
    },
    {
     "name": "stdout",
     "output_type": "stream",
     "text": [
      "768/768 [==============================] - 0s 160us/step - loss: 1.5120 - acc: 0.5716\n",
      "Epoch 7/15\n",
      "768/768 [==============================] - 0s 133us/step - loss: 1.2589 - acc: 0.5807\n",
      "Epoch 8/15\n",
      "768/768 [==============================] - 0s 151us/step - loss: 0.9996 - acc: 0.5911\n",
      "Epoch 9/15\n",
      "768/768 [==============================] - 0s 149us/step - loss: 0.9296 - acc: 0.5964\n",
      "Epoch 10/15\n",
      "768/768 [==============================] - 0s 131us/step - loss: 0.8694 - acc: 0.6055\n",
      "Epoch 11/15\n",
      "768/768 [==============================] - 0s 161us/step - loss: 0.8190 - acc: 0.6146\n",
      "Epoch 12/15\n",
      "768/768 [==============================] - 0s 150us/step - loss: 0.7574 - acc: 0.6211\n",
      "Epoch 13/15\n",
      "768/768 [==============================] - 0s 143us/step - loss: 0.7327 - acc: 0.6237\n",
      "Epoch 14/15\n",
      "768/768 [==============================] - 0s 161us/step - loss: 0.7388 - acc: 0.6211\n",
      "Epoch 15/15\n",
      "768/768 [==============================] - 0s 143us/step - loss: 0.6941 - acc: 0.6341\n",
      "768/768 [==============================] - 0s 362us/step\n",
      "lecun_uniform\n",
      "Epoch 1/15\n",
      "768/768 [==============================] - 1s 1ms/step - loss: 3.3812 - acc: 0.5951\n",
      "Epoch 2/15\n",
      "768/768 [==============================] - 0s 176us/step - loss: 1.9707 - acc: 0.6042\n",
      "Epoch 3/15\n",
      "768/768 [==============================] - 0s 162us/step - loss: 1.0713 - acc: 0.6081\n",
      "Epoch 4/15\n",
      "768/768 [==============================] - 0s 153us/step - loss: 0.8470 - acc: 0.6289\n",
      "Epoch 5/15\n",
      "768/768 [==============================] - 0s 198us/step - loss: 0.7362 - acc: 0.6628\n",
      "Epoch 6/15\n",
      "768/768 [==============================] - 0s 148us/step - loss: 0.7082 - acc: 0.6615\n",
      "Epoch 7/15\n",
      "768/768 [==============================] - 0s 190us/step - loss: 0.7046 - acc: 0.6602\n",
      "Epoch 8/15\n",
      "768/768 [==============================] - 0s 196us/step - loss: 0.6794 - acc: 0.6706\n",
      "Epoch 9/15\n",
      "768/768 [==============================] - 0s 165us/step - loss: 0.6750 - acc: 0.6771\n",
      "Epoch 10/15\n",
      "768/768 [==============================] - 0s 164us/step - loss: 0.6648 - acc: 0.6654\n",
      "Epoch 11/15\n",
      "768/768 [==============================] - 0s 186us/step - loss: 0.6494 - acc: 0.6706\n",
      "Epoch 12/15\n",
      "768/768 [==============================] - 0s 165us/step - loss: 0.6445 - acc: 0.6745\n",
      "Epoch 13/15\n",
      "768/768 [==============================] - 0s 172us/step - loss: 0.6367 - acc: 0.6823\n",
      "Epoch 14/15\n",
      "768/768 [==============================] - 0s 169us/step - loss: 0.6469 - acc: 0.6693\n",
      "Epoch 15/15\n",
      "768/768 [==============================] - 0s 177us/step - loss: 0.6313 - acc: 0.6667\n",
      "768/768 [==============================] - 0s 394us/step\n"
     ]
    },
    {
     "data": {
      "text/plain": [
       "<matplotlib.legend.Legend at 0x2e51bd545f8>"
      ]
     },
     "execution_count": 11,
     "metadata": {},
     "output_type": "execute_result"
    },
    {
     "data": {
      "image/png": "[encoded data removed]",
      "text/plain": [
       "<Figure size 720x360 with 1 Axes>"
      ]
     },
     "metadata": {
      "needs_background": "light"
     },
     "output_type": "display_data"
    }
   ],
   "source": [
    "plt.figure(figsize=[10,5])\n",
    "accuracy = []\n",
    "initialisation  = ['RandomUniform','glorot_normal','glorot_uniform','he_normal','he_uniform','lecun_normal','lecun_uniform']\n",
    "for methods in initialisation:\n",
    "    print(methods)\n",
    "    model = Sequential()\n",
    "    model.add(Dense(12, input_dim=8, kernel_initializer=methods, activation='relu'))\n",
    "    model.add(Dense(8, activation='relu'))\n",
    "    model.add(Dense(1, activation='sigmoid'))\n",
    "    model.compile(loss='binary_crossentropy', optimizer='adam', metrics=['accuracy'])\n",
    "    history = model.fit(X, Y, epochs=15, batch_size=10)\n",
    "    plt.plot(history.history['acc'])\n",
    "    scores = model.evaluate(X, Y)\n",
    "    accuracy.append(scores[1]*100) \n",
    "    \n",
    "    \n",
    "    \n",
    "plt.title('model Accuracy')\n",
    "plt.ylabel('Accuracy')\n",
    "plt.xlabel('epoch')\n",
    "plt.legend(initialisation, loc='upper left')"
   ]
  },
  {
   "cell_type": "markdown",
   "metadata": {},
   "source": [
    "On remarque d'après nos plots qu'il n'éxiste pas une méthode d'initialisation meilleure que d'autres car tous dépend du \n",
    "nombre d'épochs choisie où on trouve l'une des méthodes avec une accuracy supérieur à toute les autres méthodes dans certaine \n",
    "epoch.\n",
    "\n",
    "NB : Dans la comparaison Global des méthodes d'initialisations on va faire notre apprentissage sur 15 epochs (nombre max d'epochs que on a choisit)"
   ]
  },
  {
   "cell_type": "code",
   "execution_count": 12,
   "metadata": {},
   "outputs": [
    {
     "data": {
      "image/png": "[encoded data removed]",
      "text/plain": [
       "<Figure size 720x504 with 1 Axes>"
      ]
     },
     "metadata": {
      "needs_background": "light"
     },
     "output_type": "display_data"
    }
   ],
   "source": [
    "plt.figure(figsize=[10,7])\n",
    "index = numpy.arange(len(accuracy))\n",
    "plt.bar(index, accuracy,width=0.5)\n",
    "\n",
    "plt.ylabel('accuracy', fontsize=5)\n",
    "plt.xticks(index, initialisation, fontsize=10, rotation=30)\n",
    "plt.title('accuracy of different initialization methods')\n",
    "\n",
    "plt.show()\n"
   ]
  },
  {
   "cell_type": "markdown",
   "metadata": {},
   "source": [
    "On remarque que dans notre modèle la méthode Glorot Uniform nous donne des bonnes résultats car il possède une accuracy supérieur à toutes les méthodes traités suivie de la méthodes Lecun Uniform qui donne aussi de bonnes résultat avec une accuracy beaucoup plus proche à la méthode Glorot Uniform."
   ]
  },
  {
   "cell_type": "markdown",
   "metadata": {},
   "source": [
    "## Conclusion\n",
    "\n",
    "Durant le cour nous avons constaté que la méthodes de He Normal donne de meilleurs résultats lors de l'utilisation de la fonction d'activation Relu dans notre hidden Layers alors que dans notre comparaison montre qu'il éxiste d'autres méthodes beaucoup plus performentes et qui donnent de meilleur résultat mieux que la méthode He normal dans ce cas (Glorot Uniform , Lecun Uniform , Random Uniform ...) bien évidement dans le modèle que on a définit et avec 15 epochs."
   ]
  }
 ],
 "metadata": {
  "kernelspec": {
   "display_name": "Python 3",
   "language": "python",
   "name": "python3"
  },
  "language_info": {
   "codemirror_mode": {
    "name": "ipython",
    "version": 3
   },
   "file_extension": ".py",
   "mimetype": "text/x-python",
   "name": "python",
   "nbconvert_exporter": "python",
   "pygments_lexer": "ipython3",
   "version": "3.6.8"
  }
 },
 "nbformat": 4,
 "nbformat_minor": 2
}
